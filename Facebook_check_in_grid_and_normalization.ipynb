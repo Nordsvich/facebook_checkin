{
 "cells": [
  {
   "cell_type": "code",
   "execution_count": 1,
   "metadata": {
    "collapsed": false
   },
   "outputs": [
    {
     "name": "stderr",
     "output_type": "stream",
     "text": [
      "/opt/anaconda3/lib/python3.5/site-packages/sklearn/utils/fixes.py:64: DeprecationWarning: inspect.getargspec() is deprecated, use inspect.signature() instead\n",
      "  if 'order' in inspect.getargspec(np.copy)[0]:\n"
     ]
    }
   ],
   "source": [
    "# -*- coding: utf-8 -*-\n",
    "import warnings\n",
    "warnings.filterwarnings('ignore')\n",
    "import numpy as np\n",
    "import pandas as pd\n",
    "import time\n",
    "from sklearn.preprocessing import LabelEncoder\n",
    "from sklearn.neighbors import KNeighborsClassifier"
   ]
  },
  {
   "cell_type": "code",
   "execution_count": 2,
   "metadata": {
    "collapsed": false
   },
   "outputs": [
    {
     "name": "stdout",
     "output_type": "stream",
     "text": [
      "[(0, 3), (3, 6), (6, 9), (9, 12), (12, 15), (15, 18), (18, 21), (21, 24)]\n"
     ]
    }
   ],
   "source": [
    "time_intervals = [(x, x+3) for x in range(0, 24) if x%3 == 0]\n",
    "print(time_intervals)"
   ]
  },
  {
   "cell_type": "code",
   "execution_count": 3,
   "metadata": {
    "collapsed": false
   },
   "outputs": [
    {
     "name": "stdout",
     "output_type": "stream",
     "text": [
      "[1, 2, 3, 4, 5, 6, 7]\n"
     ]
    }
   ],
   "source": [
    "weekday_intervals = list(range(1, 8))\n",
    "print(weekday_intervals)"
   ]
  },
  {
   "cell_type": "code",
   "execution_count": 4,
   "metadata": {
    "collapsed": false
   },
   "outputs": [
    {
     "name": "stdout",
     "output_type": "stream",
     "text": [
      "[(0, 18), (19, 50), (51, 60), (61, 70), (71, 100), (101, 100000)]\n"
     ]
    }
   ],
   "source": [
    "accuracy_intervals = [(0, 18), (19, 50), (51, 60), (61, 70), (71, 100), (101, 100000)]\n",
    "print(accuracy_intervals)"
   ]
  },
  {
   "cell_type": "code",
   "execution_count": 14,
   "metadata": {
    "collapsed": true
   },
   "outputs": [],
   "source": [
    "def get_all_combinations(time_ints, weekday_ints, accuracy_ints):\n",
    "    ans_dicts = []\n",
    "    for t in time_ints:\n",
    "        for w in weekday_ints:\n",
    "            ans_dicts.append({'time_ints': t, 'weekday_ints': w})\n",
    "    return ans_dicts"
   ]
  },
  {
   "cell_type": "code",
   "execution_count": 15,
   "metadata": {
    "collapsed": false
   },
   "outputs": [],
   "source": [
    "features_grid = get_all_combinations(time_intervals, weekday_intervals, accuracy_intervals)\n",
    "#pd.DataFrame(get_all_combinations(time_intervals, weekday_intervals, accuracy_intervals))"
   ]
  },
  {
   "cell_type": "code",
   "execution_count": 18,
   "metadata": {
    "collapsed": false
   },
   "outputs": [
    {
     "data": {
      "text/plain": [
       "{'time_ints': (21, 24), 'weekday_ints': 7}"
      ]
     },
     "execution_count": 18,
     "metadata": {},
     "output_type": "execute_result"
    }
   ],
   "source": [
    "features_grid[-1]"
   ]
  },
  {
   "cell_type": "code",
   "execution_count": 19,
   "metadata": {
    "collapsed": false
   },
   "outputs": [],
   "source": [
    "def fgeneration_data(df):\n",
    "    mintue = df['time']%60\n",
    "    df['hour'] = df['time']//60\n",
    "    df['weekday'] = df['hour']//24\n",
    "    df['hour'] = ((df['hour']%24+1)+mintue/60.0)\n",
    "    df['weekday'] = df['weekday']%7+1\n",
    "    df.drop(['time'], axis=1, inplace=True)\n",
    "    dfo = df\n",
    "    return dfo\n",
    "\n",
    "def preprocessing_data(df, fw):\n",
    "    df.drop(['accuracy'], axis=1, inplace=True)\n",
    "    df['hour'] = df['hour']*fw[2]\n",
    "    df['weekday'] = df['weekday']*fw[3]\n",
    "    dfo = df\n",
    "    return dfo\n",
    "\n",
    "# Classification inside one grid cell.\n",
    "def process_one_cell(df_train, df_test, grid_condition, fw):\n",
    "    # {'accuracy_ints': (0, 18), 'time_ints': (0, 3), 'weekday_ints': 4} = grid_condition\n",
    "#     accuracy_min, accuracy_max = grid_condition['accuracy_ints']\n",
    "    hh_min, hh_max = grid_condition['time_ints']\n",
    "    weekday_v = int(grid_condition['weekday_ints'])\n",
    "    #Working on df_train\n",
    "    filter_df = lambda df: df[(df['hour'] >= hh_min) & (df['hour'] < hh_max) &\n",
    "                                (df['weekday'] == weekday_v)]\n",
    "    df_cell_train = filter_df(df_train)\n",
    "    df_cell_train = preprocessing_data(df_cell_train, fw)\n",
    "    \n",
    "    place_counts = df_cell_train.place_id.value_counts()\n",
    "    mask = (place_counts[df_cell_train.place_id.values] >= th).values\n",
    "    df_cell_train = df_cell_train.loc[mask]\n",
    "    \n",
    "    #Working on df_test\n",
    "    # to be delete: df_cell_test = df_test.loc[df_test.grid_cell == grid_id]\n",
    "    df_cell_test = filter_df(df_test)\n",
    "    df_cell_test = preprocessing_data(df_cell_test, fw)\n",
    "    row_ids = df_cell_test.index\n",
    "\n",
    "    #Feature engineering on x and y\n",
    "    df_cell_train.loc[:,'x'] *= fw[0]\n",
    "    df_cell_train.loc[:,'y'] *= fw[1]\n",
    "    df_cell_test.loc[:,'x'] *= fw[0]\n",
    "    df_cell_test.loc[:,'y'] *= fw[1]\n",
    "    \n",
    "    #Preparing data\n",
    "    le = LabelEncoder()\n",
    "    y = le.fit_transform(df_cell_train.place_id.values)\n",
    "    X = df_cell_train.drop(['place_id'], axis=1).values.astype(float)\n",
    "    X_test = df_cell_test.values.astype(float)\n",
    "\n",
    "    #Applying the classifier\n",
    "    clf = KNeighborsClassifier(n_neighbors=26, weights='distance', \n",
    "                               metric='manhattan')\n",
    "    clf.fit(X, y)\n",
    "    y_pred = clf.predict_proba(X_test)\n",
    "    pred_labels = le.inverse_transform(np.argsort(y_pred, axis=1)[:,::-1][:,:3]) \n",
    "    \n",
    "    return pred_labels, row_ids\n",
    "   \n",
    "\n",
    "def process_grid(df_train, df_test, features_grid, fw):\n",
    "    \"\"\"\n",
    "    Iterates over all grid cells, aggregates the results and makes the\n",
    "    submission.\n",
    "    \"\"\" \n",
    "    preds = np.zeros((df_test.shape[0], 3), dtype=np.int64)\n",
    "    l = len(features_grid)\n",
    "    df_train = fgeneration_data(df_train)\n",
    "    df_test = fgeneration_data(df_test)\n",
    "    \n",
    "    for i, it in enumerate(features_grid):\n",
    "        #Applying classifier to one grid cell\n",
    "        #TODO: add preparation\n",
    "        \n",
    "        pred_labels, row_ids = process_one_cell(df_train, df_test, it, fw)\n",
    "        #Updating predictions\n",
    "        preds[row_ids] = pred_labels\n",
    "        print(\"STEP={0} FROM={1}\".format(*[i, l]))\n",
    "        #print(\"Row %d/%d elapsed time: %.2f seconds\" % (i+1, (int)(size/x_step),(time.time() - start_time_row)))\n",
    "\n",
    "    print('Generating submission file ...')\n",
    "    #Auxiliary dataframe with the 3 best predictions for each sample\n",
    "    df_aux = pd.DataFrame(preds, dtype=str, columns=['l1', 'l2', 'l3'])  \n",
    "    \n",
    "    #Concatenating the 3 predictions for each sample\n",
    "    ds_sub = df_aux.l1.str.cat([df_aux.l2, df_aux.l3], sep=' ')\n",
    "    \n",
    "    #Writting to csv\n",
    "    ds_sub.name = 'place_id'\n",
    "    ds_sub.to_csv('/opt/devs/sub_knn_grid_alex3.csv', index=True, header=True, index_label='row_id')  "
   ]
  },
  {
   "cell_type": "code",
   "execution_count": 20,
   "metadata": {
    "collapsed": true
   },
   "outputs": [],
   "source": [
    "fw = [500., 1000., 4., 3., 2., 8.] #feature weights (black magic here)\n",
    "th = 5 #Keeping place_ids with more than th samples."
   ]
  },
  {
   "cell_type": "code",
   "execution_count": null,
   "metadata": {
    "collapsed": false
   },
   "outputs": [
    {
     "name": "stdout",
     "output_type": "stream",
     "text": [
      "Loading data ...\n"
     ]
    }
   ],
   "source": [
    "print('Loading data ...')\n",
    "\n",
    "df_train = pd.read_csv('/opt/devs/train_facebook.csv',\n",
    "                       usecols=['row_id','x','y', 'accuracy', 'time','place_id'], \n",
    "                       index_col = 0)\n",
    "df_test = pd.read_csv('/opt/devs/test_facebook.csv',\n",
    "                      usecols=['row_id','x','y', 'accuracy' ,'time'],\n",
    "                      index_col = 0)\n"
   ]
  },
  {
   "cell_type": "code",
   "execution_count": null,
   "metadata": {
    "collapsed": false,
    "scrolled": false
   },
   "outputs": [
    {
     "name": "stdout",
     "output_type": "stream",
     "text": [
      "Preparing train data\n",
      "STEP=0 FROM=56\n",
      "STEP=1 FROM=56\n",
      "STEP=2 FROM=56\n",
      "STEP=3 FROM=56\n",
      "STEP=4 FROM=56\n",
      "STEP=5 FROM=56\n",
      "STEP=6 FROM=56\n",
      "STEP=7 FROM=56\n",
      "STEP=8 FROM=56\n",
      "STEP=9 FROM=56\n",
      "STEP=10 FROM=56\n",
      "STEP=11 FROM=56"
     ]
    }
   ],
   "source": [
    "print('Preparing train data')\n",
    "#Feature engineering\n",
    "\n",
    "#Solving classification problems inside each grid cell \n",
    "process_grid(df_train, df_test, features_grid, fw)"
   ]
  },
  {
   "cell_type": "code",
   "execution_count": null,
   "metadata": {
    "collapsed": true
   },
   "outputs": [],
   "source": [
    "\n",
    "\n",
    "\n",
    "\n",
    "\n",
    "\n",
    "\n",
    "\n",
    "\n",
    "\n",
    "\n",
    "\n",
    "\n",
    "\n",
    "\n",
    "\n",
    "\n",
    "\n",
    "\n",
    "\n",
    "\n",
    "\n",
    "\n",
    "\n",
    "\n",
    "\n",
    "\n",
    "\n",
    "\n",
    "\n",
    "\n",
    "\n",
    "\n",
    "\n",
    "\n"
   ]
  },
  {
   "cell_type": "code",
   "execution_count": null,
   "metadata": {
    "collapsed": true
   },
   "outputs": [],
   "source": []
  },
  {
   "cell_type": "code",
   "execution_count": null,
   "metadata": {
    "collapsed": true
   },
   "outputs": [],
   "source": []
  },
  {
   "cell_type": "code",
   "execution_count": null,
   "metadata": {
    "collapsed": true
   },
   "outputs": [],
   "source": []
  },
  {
   "cell_type": "code",
   "execution_count": null,
   "metadata": {
    "collapsed": true
   },
   "outputs": [],
   "source": []
  },
  {
   "cell_type": "code",
   "execution_count": null,
   "metadata": {
    "collapsed": true
   },
   "outputs": [],
   "source": []
  },
  {
   "cell_type": "code",
   "execution_count": null,
   "metadata": {
    "collapsed": true
   },
   "outputs": [],
   "source": []
  },
  {
   "cell_type": "code",
   "execution_count": null,
   "metadata": {
    "collapsed": true
   },
   "outputs": [],
   "source": []
  },
  {
   "cell_type": "code",
   "execution_count": null,
   "metadata": {
    "collapsed": true
   },
   "outputs": [],
   "source": []
  },
  {
   "cell_type": "code",
   "execution_count": null,
   "metadata": {
    "collapsed": true
   },
   "outputs": [],
   "source": []
  },
  {
   "cell_type": "code",
   "execution_count": null,
   "metadata": {
    "collapsed": true
   },
   "outputs": [],
   "source": []
  },
  {
   "cell_type": "code",
   "execution_count": null,
   "metadata": {
    "collapsed": true
   },
   "outputs": [],
   "source": []
  },
  {
   "cell_type": "code",
   "execution_count": null,
   "metadata": {
    "collapsed": true
   },
   "outputs": [],
   "source": []
  },
  {
   "cell_type": "code",
   "execution_count": null,
   "metadata": {
    "collapsed": true
   },
   "outputs": [],
   "source": []
  }
 ],
 "metadata": {
  "anaconda-cloud": {},
  "kernelspec": {
   "display_name": "Python 3",
   "language": "python",
   "name": "python3"
  },
  "language_info": {
   "codemirror_mode": {
    "name": "ipython",
    "version": 3
   },
   "file_extension": ".py",
   "mimetype": "text/x-python",
   "name": "python",
   "nbconvert_exporter": "python",
   "pygments_lexer": "ipython3",
   "version": "3.5.1"
  }
 },
 "nbformat": 4,
 "nbformat_minor": 0
}
