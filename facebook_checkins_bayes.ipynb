{
 "cells": [
  {
   "cell_type": "code",
   "execution_count": 173,
   "metadata": {
    "collapsed": false
   },
   "outputs": [],
   "source": [
    "import warnings\n",
    "warnings.filterwarnings('ignore')"
   ]
  },
  {
   "cell_type": "code",
   "execution_count": 174,
   "metadata": {
    "collapsed": false
   },
   "outputs": [],
   "source": [
    "import numpy as np\n",
    "import pandas as pd\n",
    "import os.path, os\n",
    "import datetime\n",
    "import time\n",
    "import sys\n",
    "import functools\n",
    "from sklearn.preprocessing import LabelEncoder\n",
    "from sklearn.neighbors import KNeighborsClassifier\n",
    "from bayes_opt import BayesianOptimization\n",
    "import argparse\n",
    "import uuid\n",
    "import json"
   ]
  },
  {
   "cell_type": "code",
   "execution_count": 175,
   "metadata": {
    "collapsed": false
   },
   "outputs": [],
   "source": [
    "def map_k_precision(truthvalues, predictions):\n",
    "    z = (predictions == truthvalues[:, None]).astype(np.float32)\n",
    "    weights = 1./(np.arange(predictions.shape[1], dtype=np.float32) + 1.)\n",
    "    z = z * weights[None, :]\n",
    "    return float(np.mean(np.sum(z, axis=1)))\n",
    "\n",
    "\n",
    "\n",
    "def f_generator(dataframe):\n",
    "    mintue = dataframe['time'] % 60\n",
    "    dataframe['hour'] = dataframe['time'] // 60\n",
    "    dataframe['weekday'] = dataframe['hour'] // 24\n",
    "    dataframe['month'] = dataframe['weekday'] // 30\n",
    "    dataframe['year'] = (dataframe['weekday'] // 365 + 1)\n",
    "    dataframe['hour'] = ((dataframe['hour'] % 24 + 1) + mintue / 60.0)\n",
    "    dataframe['weekday'] = (dataframe['weekday'] % 7 + 1)\n",
    "    dataframe['month'] = (dataframe['month'] % 12 + 1)\n",
    "#     dataframe['log10acc'] = np.log10(dataframe['accuracy'].values)\n",
    "    return dataframe\n",
    "\n",
    "\n",
    "def f_preprocessor(dataframe,\n",
    "                   w_x=500,\n",
    "                   w_y=1000,\n",
    "                   w_hour=4,\n",
    "#                    w_log10acc=15,\n",
    "                   w_weekday=3,\n",
    "                   w_month=2,\n",
    "                   w_year=8):\n",
    "    \n",
    "    dataframe[\"x\"] = dataframe[\"x\"] * w_x\n",
    "    dataframe[\"y\"] = dataframe[\"y\"] * w_y\n",
    "    dataframe[\"year\"] = dataframe[\"year\"] * w_year\n",
    "    dataframe[\"hour\"] = dataframe[\"hour\"] * w_hour\n",
    "    dataframe[\"weekday\"] = dataframe[\"weekday\"] * w_weekday\n",
    "    dataframe[\"month\"] = dataframe[\"month\"] * w_month\n",
    "    dataframe['log10acc'] = np.log10(dataframe['accuracy'].values) * w_log10acc  \n",
    "    dataframe.drop(['time', 'accuracy'], axis=1, inplace=True)\n",
    "    return dataframe\n",
    "    \n",
    "\n",
    "def slicer_xy(df_train, df_test, slicer_param):\n",
    "    for param in slicer_param:\n",
    "        x_min, x_max, y_min, y_max = param[\"x_min\"], param[\"x_max\"], param[\"y_min\"], param[\"y_max\"]\n",
    "        x_border_augment, y_border_augment = param[\"x_border_augment\"], param[\"y_border_augment\"]\n",
    "        df_cell_train = df_train[(df_train['x'] >= x_min-x_border_augment)\n",
    "                         & (df_train['x'] < x_max+x_border_augment)\n",
    "                         & (df_train['y'] >= y_min-y_border_augment)\n",
    "                         & (df_train['y'] < y_max+y_border_augment)].copy()\n",
    "\n",
    "        df_cell_test = df_test[(df_test['x'] >= x_min)\n",
    "                           & (df_test['x'] < x_max)\n",
    "                           & (df_test['y'] >= y_min)\n",
    "                           & (df_test['y'] < y_max)].copy()\n",
    "\n",
    "        yield df_cell_train, df_cell_test\n",
    "    \n",
    "def slicer_param_generator_xy(**kwargs):\n",
    "    size = kwargs[\"size\"]\n",
    "    x_step = kwargs[\"x_step\"]\n",
    "    y_step = kwargs[\"y_step\"]\n",
    "    x_border_augment = x_step * 0.2\n",
    "    y_border_augment = y_step * 0.2\n",
    "    \n",
    "    cells = (int)(size/x_step)\n",
    "    for i in range(cells):\n",
    "        start_time_row = time.time()\n",
    "        x_min = x_step * i\n",
    "        x_max = x_step * (i+1)\n",
    "        x_min = round(x_min, 4)\n",
    "        x_max = round(x_max, 4)\n",
    "        if x_max == size:\n",
    "            x_max = x_max + 0.001\n",
    "\n",
    "        for j in range((int)(size/y_step)):\n",
    "            y_min = y_step * j\n",
    "            y_max = y_step * (j+1)\n",
    "            y_min = round(y_min, 4)\n",
    "            y_max = round(y_max, 4)\n",
    "            if y_max == size:\n",
    "                y_max = y_max + 0.001\n",
    "            yield {\"x_min\": x_min , \n",
    "                   \"x_max\" : x_max,\n",
    "                   \"y_min\" : y_min,\n",
    "                   \"y_max\" : y_max,\n",
    "                   \"x_border_augment\": x_border_augment,\n",
    "                   \"y_border_augment\": y_border_augment}\n",
    "\n",
    "def do_predict(df_cell_train, df_cell_test, th, n_neighbors):\n",
    "\n",
    "    place_counts = df_cell_train.place_id.value_counts()\n",
    "    mask = (place_counts[df_cell_train.place_id.values] >= th).values\n",
    "    row_ids = df_cell_test.index\n",
    "    le = LabelEncoder()\n",
    "    y = le.fit_transform(df_cell_train.place_id.values)\n",
    "    X = df_cell_train.drop(['place_id'], axis=1).values.astype(float)\n",
    "\n",
    "    X_test = df_cell_test.values.astype(float)\n",
    "\n",
    "    # Applying the classifier\n",
    "    clf = KNeighborsClassifier(n_neighbors=int(n_neighbors),\n",
    "                               weights='distance',\n",
    "                               metric='manhattan')\n",
    "    clf.fit(X, y)\n",
    "    y_pred = clf.predict_proba(X_test)\n",
    "    pred_labels = le.inverse_transform(\n",
    "        np.argsort(y_pred, axis=1)[:, ::-1][:, :3])\n",
    "    return pred_labels, row_ids\n",
    "\n",
    "\n",
    "def ml_pipeline(slicer, th=5, n_neighbors=26):\n",
    "    cnt = 0\n",
    "    for cell_train, cell_test in slicer:\n",
    "        pred_labels, row_id = do_predict(f_preprocessor(cell_train),\n",
    "                                         f_preprocessor(cell_test),\n",
    "                                         th, n_neighbors)\n",
    "        yield pred_labels, row_id\n",
    "        if cnt % 10 == 0:\n",
    "            print(cnt)\n",
    "        cnt+=1\n",
    "\n",
    "def wraper_for_optimization():\n",
    "    pass\n",
    "    "
   ]
  },
  {
   "cell_type": "markdown",
   "metadata": {},
   "source": [
    "Load data\n",
    "--"
   ]
  },
  {
   "cell_type": "code",
   "execution_count": 176,
   "metadata": {
    "collapsed": false
   },
   "outputs": [
    {
     "name": "stdout",
     "output_type": "stream",
     "text": [
      "Loading data ...\n"
     ]
    }
   ],
   "source": [
    "now_time = datetime.datetime.now().strftime(\"%Y-%m-%d-%H-%M\")\n",
    "\n",
    "\n",
    "print('Loading data ...')\n",
    "df_train = pd.read_csv('/opt/devs/train_facebook.csv',\n",
    "                       usecols=[\n",
    "                           'row_id', 'x', 'y', 'accuracy', 'time', 'place_id'],\n",
    "                       index_col=0)\n",
    "df_train.sort_values('time', inplace=True)\n",
    "df_test = pd.read_csv('/opt/devs/test_facebook.csv',\n",
    "                      usecols=['row_id', 'x', 'y', 'accuracy', 'time'],\n",
    "                      index_col=0)"
   ]
  },
  {
   "cell_type": "markdown",
   "metadata": {},
   "source": [
    "Init\n",
    "--"
   ]
  },
  {
   "cell_type": "code",
   "execution_count": 177,
   "metadata": {
    "collapsed": true
   },
   "outputs": [],
   "source": [
    "param = {\"size\": 10, \"x_step\": 1.0, \"y_step\" : 0.5}\n",
    "th = 5 \n",
    "n_neighbors = 26\n",
    "output_path = \"/opt/devs/facebook_eugene.tsv\""
   ]
  },
  {
   "cell_type": "markdown",
   "metadata": {},
   "source": [
    "Feature generation\n",
    "--"
   ]
  },
  {
   "cell_type": "code",
   "execution_count": 178,
   "metadata": {
    "collapsed": false
   },
   "outputs": [],
   "source": [
    "df_train = f_generator(df_train)\n",
    "df_test = f_generator(df_test)"
   ]
  },
  {
   "cell_type": "markdown",
   "metadata": {},
   "source": [
    "Cross validation\n",
    "--"
   ]
  },
  {
   "cell_type": "code",
   "execution_count": 179,
   "metadata": {
    "collapsed": false
   },
   "outputs": [],
   "source": [
    "ninety_percent_mark = int(df_train.shape[0]*0.7)\n",
    "\n",
    "df_validation_test = df_train[ninety_percent_mark:]\n",
    "truthvalues = df_validation_test.place_id.values\n",
    "\n",
    "df_validation_test.drop([\"place_id\"], axis=1, inplace=True)\n",
    "\n",
    "df_test2 = df_validation_test.copy()\n",
    "df_test2['pred1'] = -99\n",
    "df_test2['pred2'] = -99\n",
    "df_test2['pred3'] = -99\n",
    "df_test2.drop([column for column in df_test2.columns if \"pred\" not in column], axis=1, inplace=True)\n",
    "\n",
    "\n",
    "df_validation_train = df_train[:ninety_percent_mark]"
   ]
  },
  {
   "cell_type": "code",
   "execution_count": 180,
   "metadata": {
    "collapsed": true
   },
   "outputs": [],
   "source": [
    "slicer_param_gen = slicer_param_generator_xy(**param)\n",
    "slicer_gen = slicer_xy(df_validation_train, df_validation_test, slicer_param_gen)"
   ]
  },
  {
   "cell_type": "code",
   "execution_count": 181,
   "metadata": {
    "collapsed": true
   },
   "outputs": [],
   "source": [
    "pipeline = ml_pipeline(slicer_gen)"
   ]
  },
  {
   "cell_type": "code",
   "execution_count": 182,
   "metadata": {
    "collapsed": false
   },
   "outputs": [
    {
     "ename": "NameError",
     "evalue": "name 'w_log10acc' is not defined",
     "output_type": "error",
     "traceback": [
      "\u001b[1;31m---------------------------------------------------------------------------\u001b[0m",
      "\u001b[1;31mNameError\u001b[0m                                 Traceback (most recent call last)",
      "\u001b[1;32m<ipython-input-182-9459507d2c57>\u001b[0m in \u001b[0;36m<module>\u001b[1;34m()\u001b[0m\n\u001b[1;32m----> 1\u001b[1;33m \u001b[1;32mfor\u001b[0m \u001b[0mpred_labels\u001b[0m\u001b[1;33m,\u001b[0m \u001b[0mrow_ids\u001b[0m \u001b[1;32min\u001b[0m \u001b[0mpipeline\u001b[0m\u001b[1;33m:\u001b[0m\u001b[1;33m\u001b[0m\u001b[0m\n\u001b[0m\u001b[0;32m      2\u001b[0m     \u001b[1;32mfor\u001b[0m \u001b[0mids\u001b[0m\u001b[1;33m,\u001b[0m \u001b[0mlabs\u001b[0m \u001b[1;32min\u001b[0m \u001b[0mzip\u001b[0m\u001b[1;33m(\u001b[0m\u001b[0mrow_ids\u001b[0m\u001b[1;33m,\u001b[0m \u001b[0mpred_labels\u001b[0m\u001b[1;33m)\u001b[0m\u001b[1;33m:\u001b[0m\u001b[1;33m\u001b[0m\u001b[0m\n\u001b[0;32m      3\u001b[0m         \u001b[0mdf_test2\u001b[0m\u001b[1;33m.\u001b[0m\u001b[0mloc\u001b[0m\u001b[1;33m[\u001b[0m\u001b[0mids\u001b[0m\u001b[1;33m]\u001b[0m \u001b[1;33m=\u001b[0m \u001b[0mnp\u001b[0m\u001b[1;33m.\u001b[0m\u001b[0marray\u001b[0m\u001b[1;33m(\u001b[0m\u001b[0mlabs\u001b[0m\u001b[1;33m)\u001b[0m\u001b[1;33m\u001b[0m\u001b[0m\n\u001b[0;32m      4\u001b[0m \u001b[1;33m\u001b[0m\u001b[0m\n\u001b[0;32m      5\u001b[0m \u001b[0mpredictions\u001b[0m \u001b[1;33m=\u001b[0m \u001b[0mdf_test2\u001b[0m\u001b[1;33m[\u001b[0m\u001b[1;33m[\u001b[0m\u001b[1;34m'pred1'\u001b[0m\u001b[1;33m,\u001b[0m \u001b[1;34m'pred2'\u001b[0m\u001b[1;33m,\u001b[0m \u001b[1;34m'pred3'\u001b[0m\u001b[1;33m]\u001b[0m\u001b[1;33m]\u001b[0m\u001b[1;33m.\u001b[0m\u001b[0mas_matrix\u001b[0m\u001b[1;33m(\u001b[0m\u001b[1;33m)\u001b[0m\u001b[1;33m\u001b[0m\u001b[0m\n",
      "\u001b[1;32m<ipython-input-175-c53334b32217>\u001b[0m in \u001b[0;36mml_pipeline\u001b[1;34m(slicer, th, n_neighbors)\u001b[0m\n\u001b[0;32m    112\u001b[0m     \u001b[0mcnt\u001b[0m \u001b[1;33m=\u001b[0m \u001b[1;36m0\u001b[0m\u001b[1;33m\u001b[0m\u001b[0m\n\u001b[0;32m    113\u001b[0m     \u001b[1;32mfor\u001b[0m \u001b[0mcell_train\u001b[0m\u001b[1;33m,\u001b[0m \u001b[0mcell_test\u001b[0m \u001b[1;32min\u001b[0m \u001b[0mslicer\u001b[0m\u001b[1;33m:\u001b[0m\u001b[1;33m\u001b[0m\u001b[0m\n\u001b[1;32m--> 114\u001b[1;33m         pred_labels, row_id = do_predict(f_preprocessor(cell_train),\n\u001b[0m\u001b[0;32m    115\u001b[0m                                          \u001b[0mf_preprocessor\u001b[0m\u001b[1;33m(\u001b[0m\u001b[0mcell_test\u001b[0m\u001b[1;33m)\u001b[0m\u001b[1;33m,\u001b[0m\u001b[1;33m\u001b[0m\u001b[0m\n\u001b[0;32m    116\u001b[0m                                          th, n_neighbors)\n",
      "\u001b[1;32m<ipython-input-175-c53334b32217>\u001b[0m in \u001b[0;36mf_preprocessor\u001b[1;34m(dataframe, w_x, w_y, w_hour, w_weekday, w_month, w_year)\u001b[0m\n\u001b[0;32m     35\u001b[0m     \u001b[0mdataframe\u001b[0m\u001b[1;33m[\u001b[0m\u001b[1;34m\"weekday\"\u001b[0m\u001b[1;33m]\u001b[0m \u001b[1;33m=\u001b[0m \u001b[0mdataframe\u001b[0m\u001b[1;33m[\u001b[0m\u001b[1;34m\"weekday\"\u001b[0m\u001b[1;33m]\u001b[0m \u001b[1;33m*\u001b[0m \u001b[0mw_weekday\u001b[0m\u001b[1;33m\u001b[0m\u001b[0m\n\u001b[0;32m     36\u001b[0m     \u001b[0mdataframe\u001b[0m\u001b[1;33m[\u001b[0m\u001b[1;34m\"month\"\u001b[0m\u001b[1;33m]\u001b[0m \u001b[1;33m=\u001b[0m \u001b[0mdataframe\u001b[0m\u001b[1;33m[\u001b[0m\u001b[1;34m\"month\"\u001b[0m\u001b[1;33m]\u001b[0m \u001b[1;33m*\u001b[0m \u001b[0mw_month\u001b[0m\u001b[1;33m\u001b[0m\u001b[0m\n\u001b[1;32m---> 37\u001b[1;33m     \u001b[0mdataframe\u001b[0m\u001b[1;33m[\u001b[0m\u001b[1;34m'log10acc'\u001b[0m\u001b[1;33m]\u001b[0m \u001b[1;33m=\u001b[0m \u001b[0mnp\u001b[0m\u001b[1;33m.\u001b[0m\u001b[0mlog10\u001b[0m\u001b[1;33m(\u001b[0m\u001b[0mdataframe\u001b[0m\u001b[1;33m[\u001b[0m\u001b[1;34m'accuracy'\u001b[0m\u001b[1;33m]\u001b[0m\u001b[1;33m.\u001b[0m\u001b[0mvalues\u001b[0m\u001b[1;33m)\u001b[0m \u001b[1;33m*\u001b[0m \u001b[0mw_log10acc\u001b[0m\u001b[1;33m\u001b[0m\u001b[0m\n\u001b[0m\u001b[0;32m     38\u001b[0m     \u001b[0mdataframe\u001b[0m\u001b[1;33m.\u001b[0m\u001b[0mdrop\u001b[0m\u001b[1;33m(\u001b[0m\u001b[1;33m[\u001b[0m\u001b[1;34m'time'\u001b[0m\u001b[1;33m,\u001b[0m \u001b[1;34m'accuracy'\u001b[0m\u001b[1;33m]\u001b[0m\u001b[1;33m,\u001b[0m \u001b[0maxis\u001b[0m\u001b[1;33m=\u001b[0m\u001b[1;36m1\u001b[0m\u001b[1;33m,\u001b[0m \u001b[0minplace\u001b[0m\u001b[1;33m=\u001b[0m\u001b[1;32mTrue\u001b[0m\u001b[1;33m)\u001b[0m\u001b[1;33m\u001b[0m\u001b[0m\n\u001b[0;32m     39\u001b[0m     \u001b[1;32mreturn\u001b[0m \u001b[0mdataframe\u001b[0m\u001b[1;33m\u001b[0m\u001b[0m\n",
      "\u001b[1;31mNameError\u001b[0m: name 'w_log10acc' is not defined"
     ]
    }
   ],
   "source": [
    "for pred_labels, row_ids in pipeline:\n",
    "    for ids, labs in zip(row_ids, pred_labels):\n",
    "        df_test2.loc[ids] = np.array(labs)\n",
    "        \n",
    "predictions = df_test2[['pred1', 'pred2', 'pred3']].as_matrix()\n",
    "mapk = map_k_precision(truthvalues, predictions)\n",
    "print(mapk)"
   ]
  },
  {
   "cell_type": "markdown",
   "metadata": {},
   "source": [
    "Generate submission\n",
    "--"
   ]
  },
  {
   "cell_type": "code",
   "execution_count": null,
   "metadata": {
    "collapsed": true
   },
   "outputs": [],
   "source": [
    "slicer_param_gen = slicer_param_generator_xy(**param)\n",
    "slicer_gen = slicer_xy(df_validation_train, df_validation_test, slicer_param_gen)"
   ]
  },
  {
   "cell_type": "code",
   "execution_count": null,
   "metadata": {
    "collapsed": true
   },
   "outputs": [],
   "source": [
    "pipeline = ml_pipeline(slicer_gen)"
   ]
  },
  {
   "cell_type": "code",
   "execution_count": null,
   "metadata": {
    "collapsed": true
   },
   "outputs": [],
   "source": [
    "with open(output_path) as f:\n",
    "    f.write('row_id,place_id\\n')\n",
    "    for pred_labels, row_ids in pipeline:\n",
    "        for ids, labs in zip(row_ids, pred_labels):\n",
    "            fh.write(\"{0},{1}\\n\".format(ids, ' '.join([str(x) for x in labs])))"
   ]
  }
 ],
 "metadata": {
  "kernelspec": {
   "display_name": "Python 3",
   "language": "python",
   "name": "python3"
  },
  "language_info": {
   "codemirror_mode": {
    "name": "ipython",
    "version": 3
   },
   "file_extension": ".py",
   "mimetype": "text/x-python",
   "name": "python",
   "nbconvert_exporter": "python",
   "pygments_lexer": "ipython3",
   "version": "3.5.1"
  }
 },
 "nbformat": 4,
 "nbformat_minor": 0
}
