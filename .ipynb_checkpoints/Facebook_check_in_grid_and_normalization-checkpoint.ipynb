{
 "cells": [
  {
   "cell_type": "code",
   "execution_count": 4,
   "metadata": {
    "collapsed": false
   },
   "outputs": [
    {
     "ename": "ImportError",
     "evalue": "cannot import name 'is_internal_type'",
     "output_type": "error",
     "traceback": [
      "\u001b[0;31m---------------------------------------------------------------------------\u001b[0m",
      "\u001b[0;31mImportError\u001b[0m                               Traceback (most recent call last)",
      "\u001b[0;32m<ipython-input-4-17eacc3731fe>\u001b[0m in \u001b[0;36m<module>\u001b[0;34m()\u001b[0m\n\u001b[1;32m      1\u001b[0m \u001b[0;34m\u001b[0m\u001b[0m\n\u001b[1;32m      2\u001b[0m \u001b[0;32mimport\u001b[0m \u001b[0mnumpy\u001b[0m \u001b[0;32mas\u001b[0m \u001b[0mnp\u001b[0m\u001b[0;34m\u001b[0m\u001b[0m\n\u001b[0;32m----> 3\u001b[0;31m \u001b[0;32mimport\u001b[0m \u001b[0mpandas\u001b[0m \u001b[0;32mas\u001b[0m \u001b[0mpd\u001b[0m\u001b[0;34m\u001b[0m\u001b[0m\n\u001b[0m\u001b[1;32m      4\u001b[0m \u001b[0;32mimport\u001b[0m \u001b[0mtime\u001b[0m\u001b[0;34m\u001b[0m\u001b[0m\n\u001b[1;32m      5\u001b[0m \u001b[0;32mfrom\u001b[0m \u001b[0msklearn\u001b[0m\u001b[0;34m.\u001b[0m\u001b[0mpreprocessing\u001b[0m \u001b[0;32mimport\u001b[0m \u001b[0mLabelEncoder\u001b[0m\u001b[0;34m\u001b[0m\u001b[0m\n",
      "\u001b[0;32m/Users/alexeypopyshev/anaconda/lib/python3.5/site-packages/pandas/__init__.py\u001b[0m in \u001b[0;36m<module>\u001b[0;34m()\u001b[0m\n\u001b[1;32m     42\u001b[0m \u001b[0;32mimport\u001b[0m \u001b[0mpandas\u001b[0m\u001b[0;34m.\u001b[0m\u001b[0mcore\u001b[0m\u001b[0;34m.\u001b[0m\u001b[0mconfig_init\u001b[0m\u001b[0;34m\u001b[0m\u001b[0m\n\u001b[1;32m     43\u001b[0m \u001b[0;34m\u001b[0m\u001b[0m\n\u001b[0;32m---> 44\u001b[0;31m \u001b[0;32mfrom\u001b[0m \u001b[0mpandas\u001b[0m\u001b[0;34m.\u001b[0m\u001b[0mcore\u001b[0m\u001b[0;34m.\u001b[0m\u001b[0mapi\u001b[0m \u001b[0;32mimport\u001b[0m \u001b[0;34m*\u001b[0m\u001b[0;34m\u001b[0m\u001b[0m\n\u001b[0m\u001b[1;32m     45\u001b[0m \u001b[0;32mfrom\u001b[0m \u001b[0mpandas\u001b[0m\u001b[0;34m.\u001b[0m\u001b[0msparse\u001b[0m\u001b[0;34m.\u001b[0m\u001b[0mapi\u001b[0m \u001b[0;32mimport\u001b[0m \u001b[0;34m*\u001b[0m\u001b[0;34m\u001b[0m\u001b[0m\n\u001b[1;32m     46\u001b[0m \u001b[0;32mfrom\u001b[0m \u001b[0mpandas\u001b[0m\u001b[0;34m.\u001b[0m\u001b[0mstats\u001b[0m\u001b[0;34m.\u001b[0m\u001b[0mapi\u001b[0m \u001b[0;32mimport\u001b[0m \u001b[0;34m*\u001b[0m\u001b[0;34m\u001b[0m\u001b[0m\n",
      "\u001b[0;32m/Users/alexeypopyshev/anaconda/lib/python3.5/site-packages/pandas/core/api.py\u001b[0m in \u001b[0;36m<module>\u001b[0;34m()\u001b[0m\n\u001b[1;32m      7\u001b[0m \u001b[0;32mfrom\u001b[0m \u001b[0mpandas\u001b[0m\u001b[0;34m.\u001b[0m\u001b[0mcore\u001b[0m\u001b[0;34m.\u001b[0m\u001b[0mcommon\u001b[0m \u001b[0;32mimport\u001b[0m \u001b[0misnull\u001b[0m\u001b[0;34m,\u001b[0m \u001b[0mnotnull\u001b[0m\u001b[0;34m\u001b[0m\u001b[0m\n\u001b[1;32m      8\u001b[0m \u001b[0;32mfrom\u001b[0m \u001b[0mpandas\u001b[0m\u001b[0;34m.\u001b[0m\u001b[0mcore\u001b[0m\u001b[0;34m.\u001b[0m\u001b[0mcategorical\u001b[0m \u001b[0;32mimport\u001b[0m \u001b[0mCategorical\u001b[0m\u001b[0;34m\u001b[0m\u001b[0m\n\u001b[0;32m----> 9\u001b[0;31m \u001b[0;32mfrom\u001b[0m \u001b[0mpandas\u001b[0m\u001b[0;34m.\u001b[0m\u001b[0mcore\u001b[0m\u001b[0;34m.\u001b[0m\u001b[0mgroupby\u001b[0m \u001b[0;32mimport\u001b[0m \u001b[0mGrouper\u001b[0m\u001b[0;34m\u001b[0m\u001b[0m\n\u001b[0m\u001b[1;32m     10\u001b[0m \u001b[0;32mfrom\u001b[0m \u001b[0mpandas\u001b[0m\u001b[0;34m.\u001b[0m\u001b[0mcore\u001b[0m\u001b[0;34m.\u001b[0m\u001b[0mformat\u001b[0m \u001b[0;32mimport\u001b[0m \u001b[0mset_eng_float_format\u001b[0m\u001b[0;34m\u001b[0m\u001b[0m\n\u001b[1;32m     11\u001b[0m \u001b[0;32mfrom\u001b[0m \u001b[0mpandas\u001b[0m\u001b[0;34m.\u001b[0m\u001b[0mcore\u001b[0m\u001b[0;34m.\u001b[0m\u001b[0mindex\u001b[0m \u001b[0;32mimport\u001b[0m \u001b[0mIndex\u001b[0m\u001b[0;34m,\u001b[0m \u001b[0mCategoricalIndex\u001b[0m\u001b[0;34m,\u001b[0m \u001b[0mInt64Index\u001b[0m\u001b[0;34m,\u001b[0m \u001b[0mFloat64Index\u001b[0m\u001b[0;34m,\u001b[0m \u001b[0mMultiIndex\u001b[0m\u001b[0;34m\u001b[0m\u001b[0m\n",
      "\u001b[0;32m/Users/alexeypopyshev/anaconda/lib/python3.5/site-packages/pandas/core/groupby.py\u001b[0m in \u001b[0;36m<module>\u001b[0;34m()\u001b[0m\n\u001b[1;32m     15\u001b[0m \u001b[0;32mfrom\u001b[0m \u001b[0mpandas\u001b[0m\u001b[0;34m.\u001b[0m\u001b[0mcore\u001b[0m\u001b[0;34m.\u001b[0m\u001b[0mbase\u001b[0m \u001b[0;32mimport\u001b[0m \u001b[0mPandasObject\u001b[0m\u001b[0;34m\u001b[0m\u001b[0m\n\u001b[1;32m     16\u001b[0m \u001b[0;32mfrom\u001b[0m \u001b[0mpandas\u001b[0m\u001b[0;34m.\u001b[0m\u001b[0mcore\u001b[0m\u001b[0;34m.\u001b[0m\u001b[0mcategorical\u001b[0m \u001b[0;32mimport\u001b[0m \u001b[0mCategorical\u001b[0m\u001b[0;34m\u001b[0m\u001b[0m\n\u001b[0;32m---> 17\u001b[0;31m \u001b[0;32mfrom\u001b[0m \u001b[0mpandas\u001b[0m\u001b[0;34m.\u001b[0m\u001b[0mcore\u001b[0m\u001b[0;34m.\u001b[0m\u001b[0mframe\u001b[0m \u001b[0;32mimport\u001b[0m \u001b[0mDataFrame\u001b[0m\u001b[0;34m\u001b[0m\u001b[0m\n\u001b[0m\u001b[1;32m     18\u001b[0m \u001b[0;32mfrom\u001b[0m \u001b[0mpandas\u001b[0m\u001b[0;34m.\u001b[0m\u001b[0mcore\u001b[0m\u001b[0;34m.\u001b[0m\u001b[0mgeneric\u001b[0m \u001b[0;32mimport\u001b[0m \u001b[0mNDFrame\u001b[0m\u001b[0;34m\u001b[0m\u001b[0m\n\u001b[1;32m     19\u001b[0m \u001b[0;32mfrom\u001b[0m \u001b[0mpandas\u001b[0m\u001b[0;34m.\u001b[0m\u001b[0mcore\u001b[0m\u001b[0;34m.\u001b[0m\u001b[0mindex\u001b[0m \u001b[0;32mimport\u001b[0m \u001b[0mIndex\u001b[0m\u001b[0;34m,\u001b[0m \u001b[0mMultiIndex\u001b[0m\u001b[0;34m,\u001b[0m \u001b[0mCategoricalIndex\u001b[0m\u001b[0;34m,\u001b[0m \u001b[0m_ensure_index\u001b[0m\u001b[0;34m\u001b[0m\u001b[0m\n",
      "\u001b[0;32m/Users/alexeypopyshev/anaconda/lib/python3.5/site-packages/pandas/core/frame.py\u001b[0m in \u001b[0;36m<module>\u001b[0;34m()\u001b[0m\n\u001b[1;32m     24\u001b[0m \u001b[0;32mimport\u001b[0m \u001b[0mnumpy\u001b[0m\u001b[0;34m.\u001b[0m\u001b[0mma\u001b[0m \u001b[0;32mas\u001b[0m \u001b[0mma\u001b[0m\u001b[0;34m\u001b[0m\u001b[0m\n\u001b[1;32m     25\u001b[0m \u001b[0;34m\u001b[0m\u001b[0m\n\u001b[0;32m---> 26\u001b[0;31m from pandas.core.common import (isnull, notnull, PandasError, _try_sort, _not_none,\n\u001b[0m\u001b[1;32m     27\u001b[0m                                 \u001b[0m_default_index\u001b[0m\u001b[0;34m,\u001b[0m \u001b[0m_maybe_upcast\u001b[0m\u001b[0;34m,\u001b[0m \u001b[0mis_sequence\u001b[0m\u001b[0;34m,\u001b[0m\u001b[0;34m\u001b[0m\u001b[0m\n\u001b[1;32m     28\u001b[0m                                 \u001b[0m_infer_dtype_from_scalar\u001b[0m\u001b[0;34m,\u001b[0m \u001b[0m_values_from_object\u001b[0m\u001b[0;34m,\u001b[0m\u001b[0;34m\u001b[0m\u001b[0m\n",
      "\u001b[0;31mImportError\u001b[0m: cannot import name 'is_internal_type'"
     ]
    }
   ],
   "source": [
    "# -*- coding: utf-8 -*-\n",
    "import numpy as np\n",
    "import pandas as pd\n",
    "import time\n",
    "from sklearn.preprocessing import LabelEncoder\n",
    "from sklearn.neighbors import KNeighborsClassifier"
   ]
  },
  {
   "cell_type": "code",
   "execution_count": 4,
   "metadata": {
    "collapsed": false
   },
   "outputs": [
    {
     "name": "stdout",
     "output_type": "stream",
     "text": [
      "[(0, 3), (3, 6), (6, 9), (9, 12), (12, 15), (15, 18), (18, 21), (21, 0)]\n"
     ]
    }
   ],
   "source": [
    "time_intervals = [(x, x+3) for x in range(0, 24) if x%3 == 0]\n",
    "time_intervals[-1] = (21, 0)\n",
    "print(time_intervals)"
   ]
  },
  {
   "cell_type": "code",
   "execution_count": 5,
   "metadata": {
    "collapsed": false
   },
   "outputs": [
    {
     "name": "stdout",
     "output_type": "stream",
     "text": [
      "[1, 2, 3, 4, 5, 6, 7]\n"
     ]
    }
   ],
   "source": [
    "weekday_intervals = list(range(1, 8))\n",
    "print(weekday_intervals)"
   ]
  },
  {
   "cell_type": "code",
   "execution_count": 6,
   "metadata": {
    "collapsed": false
   },
   "outputs": [
    {
     "name": "stdout",
     "output_type": "stream",
     "text": [
      "[(0, 18), (19, 50), (51, 60), (61, 70), (71, 100), (101, 100000)]\n"
     ]
    }
   ],
   "source": [
    "accuracy_intervals = [(0, 18), (19, 50), (51, 60), (61, 70), (71, 100), (101, 100000)]\n",
    "print(accuracy_intervals)"
   ]
  },
  {
   "cell_type": "code",
   "execution_count": 3,
   "metadata": {
    "collapsed": true
   },
   "outputs": [],
   "source": [
    "def get_all_combinations(time_ints, weekday_ints, accuracy_ints):\n",
    "    ans_dicts = []\n",
    "    for t in time_ints:\n",
    "        for w in weekday_ints:\n",
    "            for a in accuracy_ints:\n",
    "                ans_dicts.append({'time_ints': t, 'weekday_ints': w, 'accuracy_ints' :a})\n",
    "    return ans_dicts"
   ]
  },
  {
   "cell_type": "code",
   "execution_count": 7,
   "metadata": {
    "collapsed": false
   },
   "outputs": [],
   "source": [
    "features_grid = get_all_combinations(time_intervals, weekday_intervals, accuracy_intervals)\n",
    "#pd.DataFrame(get_all_combinations(time_intervals, weekday_intervals, accuracy_intervals))"
   ]
  },
  {
   "cell_type": "code",
   "execution_count": 8,
   "metadata": {
    "collapsed": false
   },
   "outputs": [
    {
     "data": {
      "text/plain": [
       "[{'accuracy_ints': (0, 18), 'time_ints': (0, 3), 'weekday_ints': 1},\n",
       " {'accuracy_ints': (19, 50), 'time_ints': (0, 3), 'weekday_ints': 1},\n",
       " {'accuracy_ints': (51, 60), 'time_ints': (0, 3), 'weekday_ints': 1},\n",
       " {'accuracy_ints': (61, 70), 'time_ints': (0, 3), 'weekday_ints': 1},\n",
       " {'accuracy_ints': (71, 100), 'time_ints': (0, 3), 'weekday_ints': 1},\n",
       " {'accuracy_ints': (101, 100000), 'time_ints': (0, 3), 'weekday_ints': 1},\n",
       " {'accuracy_ints': (0, 18), 'time_ints': (0, 3), 'weekday_ints': 2},\n",
       " {'accuracy_ints': (19, 50), 'time_ints': (0, 3), 'weekday_ints': 2},\n",
       " {'accuracy_ints': (51, 60), 'time_ints': (0, 3), 'weekday_ints': 2},\n",
       " {'accuracy_ints': (61, 70), 'time_ints': (0, 3), 'weekday_ints': 2},\n",
       " {'accuracy_ints': (71, 100), 'time_ints': (0, 3), 'weekday_ints': 2},\n",
       " {'accuracy_ints': (101, 100000), 'time_ints': (0, 3), 'weekday_ints': 2},\n",
       " {'accuracy_ints': (0, 18), 'time_ints': (0, 3), 'weekday_ints': 3},\n",
       " {'accuracy_ints': (19, 50), 'time_ints': (0, 3), 'weekday_ints': 3},\n",
       " {'accuracy_ints': (51, 60), 'time_ints': (0, 3), 'weekday_ints': 3},\n",
       " {'accuracy_ints': (61, 70), 'time_ints': (0, 3), 'weekday_ints': 3},\n",
       " {'accuracy_ints': (71, 100), 'time_ints': (0, 3), 'weekday_ints': 3},\n",
       " {'accuracy_ints': (101, 100000), 'time_ints': (0, 3), 'weekday_ints': 3},\n",
       " {'accuracy_ints': (0, 18), 'time_ints': (0, 3), 'weekday_ints': 4},\n",
       " {'accuracy_ints': (19, 50), 'time_ints': (0, 3), 'weekday_ints': 4},\n",
       " {'accuracy_ints': (51, 60), 'time_ints': (0, 3), 'weekday_ints': 4},\n",
       " {'accuracy_ints': (61, 70), 'time_ints': (0, 3), 'weekday_ints': 4},\n",
       " {'accuracy_ints': (71, 100), 'time_ints': (0, 3), 'weekday_ints': 4},\n",
       " {'accuracy_ints': (101, 100000), 'time_ints': (0, 3), 'weekday_ints': 4},\n",
       " {'accuracy_ints': (0, 18), 'time_ints': (0, 3), 'weekday_ints': 5},\n",
       " {'accuracy_ints': (19, 50), 'time_ints': (0, 3), 'weekday_ints': 5},\n",
       " {'accuracy_ints': (51, 60), 'time_ints': (0, 3), 'weekday_ints': 5},\n",
       " {'accuracy_ints': (61, 70), 'time_ints': (0, 3), 'weekday_ints': 5},\n",
       " {'accuracy_ints': (71, 100), 'time_ints': (0, 3), 'weekday_ints': 5},\n",
       " {'accuracy_ints': (101, 100000), 'time_ints': (0, 3), 'weekday_ints': 5},\n",
       " {'accuracy_ints': (0, 18), 'time_ints': (0, 3), 'weekday_ints': 6},\n",
       " {'accuracy_ints': (19, 50), 'time_ints': (0, 3), 'weekday_ints': 6},\n",
       " {'accuracy_ints': (51, 60), 'time_ints': (0, 3), 'weekday_ints': 6},\n",
       " {'accuracy_ints': (61, 70), 'time_ints': (0, 3), 'weekday_ints': 6},\n",
       " {'accuracy_ints': (71, 100), 'time_ints': (0, 3), 'weekday_ints': 6},\n",
       " {'accuracy_ints': (101, 100000), 'time_ints': (0, 3), 'weekday_ints': 6},\n",
       " {'accuracy_ints': (0, 18), 'time_ints': (0, 3), 'weekday_ints': 7},\n",
       " {'accuracy_ints': (19, 50), 'time_ints': (0, 3), 'weekday_ints': 7},\n",
       " {'accuracy_ints': (51, 60), 'time_ints': (0, 3), 'weekday_ints': 7},\n",
       " {'accuracy_ints': (61, 70), 'time_ints': (0, 3), 'weekday_ints': 7},\n",
       " {'accuracy_ints': (71, 100), 'time_ints': (0, 3), 'weekday_ints': 7},\n",
       " {'accuracy_ints': (101, 100000), 'time_ints': (0, 3), 'weekday_ints': 7},\n",
       " {'accuracy_ints': (0, 18), 'time_ints': (3, 6), 'weekday_ints': 1},\n",
       " {'accuracy_ints': (19, 50), 'time_ints': (3, 6), 'weekday_ints': 1},\n",
       " {'accuracy_ints': (51, 60), 'time_ints': (3, 6), 'weekday_ints': 1},\n",
       " {'accuracy_ints': (61, 70), 'time_ints': (3, 6), 'weekday_ints': 1},\n",
       " {'accuracy_ints': (71, 100), 'time_ints': (3, 6), 'weekday_ints': 1},\n",
       " {'accuracy_ints': (101, 100000), 'time_ints': (3, 6), 'weekday_ints': 1},\n",
       " {'accuracy_ints': (0, 18), 'time_ints': (3, 6), 'weekday_ints': 2},\n",
       " {'accuracy_ints': (19, 50), 'time_ints': (3, 6), 'weekday_ints': 2},\n",
       " {'accuracy_ints': (51, 60), 'time_ints': (3, 6), 'weekday_ints': 2},\n",
       " {'accuracy_ints': (61, 70), 'time_ints': (3, 6), 'weekday_ints': 2},\n",
       " {'accuracy_ints': (71, 100), 'time_ints': (3, 6), 'weekday_ints': 2},\n",
       " {'accuracy_ints': (101, 100000), 'time_ints': (3, 6), 'weekday_ints': 2},\n",
       " {'accuracy_ints': (0, 18), 'time_ints': (3, 6), 'weekday_ints': 3},\n",
       " {'accuracy_ints': (19, 50), 'time_ints': (3, 6), 'weekday_ints': 3},\n",
       " {'accuracy_ints': (51, 60), 'time_ints': (3, 6), 'weekday_ints': 3},\n",
       " {'accuracy_ints': (61, 70), 'time_ints': (3, 6), 'weekday_ints': 3},\n",
       " {'accuracy_ints': (71, 100), 'time_ints': (3, 6), 'weekday_ints': 3},\n",
       " {'accuracy_ints': (101, 100000), 'time_ints': (3, 6), 'weekday_ints': 3},\n",
       " {'accuracy_ints': (0, 18), 'time_ints': (3, 6), 'weekday_ints': 4},\n",
       " {'accuracy_ints': (19, 50), 'time_ints': (3, 6), 'weekday_ints': 4},\n",
       " {'accuracy_ints': (51, 60), 'time_ints': (3, 6), 'weekday_ints': 4},\n",
       " {'accuracy_ints': (61, 70), 'time_ints': (3, 6), 'weekday_ints': 4},\n",
       " {'accuracy_ints': (71, 100), 'time_ints': (3, 6), 'weekday_ints': 4},\n",
       " {'accuracy_ints': (101, 100000), 'time_ints': (3, 6), 'weekday_ints': 4},\n",
       " {'accuracy_ints': (0, 18), 'time_ints': (3, 6), 'weekday_ints': 5},\n",
       " {'accuracy_ints': (19, 50), 'time_ints': (3, 6), 'weekday_ints': 5},\n",
       " {'accuracy_ints': (51, 60), 'time_ints': (3, 6), 'weekday_ints': 5},\n",
       " {'accuracy_ints': (61, 70), 'time_ints': (3, 6), 'weekday_ints': 5},\n",
       " {'accuracy_ints': (71, 100), 'time_ints': (3, 6), 'weekday_ints': 5},\n",
       " {'accuracy_ints': (101, 100000), 'time_ints': (3, 6), 'weekday_ints': 5},\n",
       " {'accuracy_ints': (0, 18), 'time_ints': (3, 6), 'weekday_ints': 6},\n",
       " {'accuracy_ints': (19, 50), 'time_ints': (3, 6), 'weekday_ints': 6},\n",
       " {'accuracy_ints': (51, 60), 'time_ints': (3, 6), 'weekday_ints': 6},\n",
       " {'accuracy_ints': (61, 70), 'time_ints': (3, 6), 'weekday_ints': 6},\n",
       " {'accuracy_ints': (71, 100), 'time_ints': (3, 6), 'weekday_ints': 6},\n",
       " {'accuracy_ints': (101, 100000), 'time_ints': (3, 6), 'weekday_ints': 6},\n",
       " {'accuracy_ints': (0, 18), 'time_ints': (3, 6), 'weekday_ints': 7},\n",
       " {'accuracy_ints': (19, 50), 'time_ints': (3, 6), 'weekday_ints': 7},\n",
       " {'accuracy_ints': (51, 60), 'time_ints': (3, 6), 'weekday_ints': 7},\n",
       " {'accuracy_ints': (61, 70), 'time_ints': (3, 6), 'weekday_ints': 7},\n",
       " {'accuracy_ints': (71, 100), 'time_ints': (3, 6), 'weekday_ints': 7},\n",
       " {'accuracy_ints': (101, 100000), 'time_ints': (3, 6), 'weekday_ints': 7},\n",
       " {'accuracy_ints': (0, 18), 'time_ints': (6, 9), 'weekday_ints': 1},\n",
       " {'accuracy_ints': (19, 50), 'time_ints': (6, 9), 'weekday_ints': 1},\n",
       " {'accuracy_ints': (51, 60), 'time_ints': (6, 9), 'weekday_ints': 1},\n",
       " {'accuracy_ints': (61, 70), 'time_ints': (6, 9), 'weekday_ints': 1},\n",
       " {'accuracy_ints': (71, 100), 'time_ints': (6, 9), 'weekday_ints': 1},\n",
       " {'accuracy_ints': (101, 100000), 'time_ints': (6, 9), 'weekday_ints': 1},\n",
       " {'accuracy_ints': (0, 18), 'time_ints': (6, 9), 'weekday_ints': 2},\n",
       " {'accuracy_ints': (19, 50), 'time_ints': (6, 9), 'weekday_ints': 2},\n",
       " {'accuracy_ints': (51, 60), 'time_ints': (6, 9), 'weekday_ints': 2},\n",
       " {'accuracy_ints': (61, 70), 'time_ints': (6, 9), 'weekday_ints': 2},\n",
       " {'accuracy_ints': (71, 100), 'time_ints': (6, 9), 'weekday_ints': 2},\n",
       " {'accuracy_ints': (101, 100000), 'time_ints': (6, 9), 'weekday_ints': 2},\n",
       " {'accuracy_ints': (0, 18), 'time_ints': (6, 9), 'weekday_ints': 3},\n",
       " {'accuracy_ints': (19, 50), 'time_ints': (6, 9), 'weekday_ints': 3},\n",
       " {'accuracy_ints': (51, 60), 'time_ints': (6, 9), 'weekday_ints': 3},\n",
       " {'accuracy_ints': (61, 70), 'time_ints': (6, 9), 'weekday_ints': 3},\n",
       " {'accuracy_ints': (71, 100), 'time_ints': (6, 9), 'weekday_ints': 3},\n",
       " {'accuracy_ints': (101, 100000), 'time_ints': (6, 9), 'weekday_ints': 3},\n",
       " {'accuracy_ints': (0, 18), 'time_ints': (6, 9), 'weekday_ints': 4},\n",
       " {'accuracy_ints': (19, 50), 'time_ints': (6, 9), 'weekday_ints': 4},\n",
       " {'accuracy_ints': (51, 60), 'time_ints': (6, 9), 'weekday_ints': 4},\n",
       " {'accuracy_ints': (61, 70), 'time_ints': (6, 9), 'weekday_ints': 4},\n",
       " {'accuracy_ints': (71, 100), 'time_ints': (6, 9), 'weekday_ints': 4},\n",
       " {'accuracy_ints': (101, 100000), 'time_ints': (6, 9), 'weekday_ints': 4},\n",
       " {'accuracy_ints': (0, 18), 'time_ints': (6, 9), 'weekday_ints': 5},\n",
       " {'accuracy_ints': (19, 50), 'time_ints': (6, 9), 'weekday_ints': 5},\n",
       " {'accuracy_ints': (51, 60), 'time_ints': (6, 9), 'weekday_ints': 5},\n",
       " {'accuracy_ints': (61, 70), 'time_ints': (6, 9), 'weekday_ints': 5},\n",
       " {'accuracy_ints': (71, 100), 'time_ints': (6, 9), 'weekday_ints': 5},\n",
       " {'accuracy_ints': (101, 100000), 'time_ints': (6, 9), 'weekday_ints': 5},\n",
       " {'accuracy_ints': (0, 18), 'time_ints': (6, 9), 'weekday_ints': 6},\n",
       " {'accuracy_ints': (19, 50), 'time_ints': (6, 9), 'weekday_ints': 6},\n",
       " {'accuracy_ints': (51, 60), 'time_ints': (6, 9), 'weekday_ints': 6},\n",
       " {'accuracy_ints': (61, 70), 'time_ints': (6, 9), 'weekday_ints': 6},\n",
       " {'accuracy_ints': (71, 100), 'time_ints': (6, 9), 'weekday_ints': 6},\n",
       " {'accuracy_ints': (101, 100000), 'time_ints': (6, 9), 'weekday_ints': 6},\n",
       " {'accuracy_ints': (0, 18), 'time_ints': (6, 9), 'weekday_ints': 7},\n",
       " {'accuracy_ints': (19, 50), 'time_ints': (6, 9), 'weekday_ints': 7},\n",
       " {'accuracy_ints': (51, 60), 'time_ints': (6, 9), 'weekday_ints': 7},\n",
       " {'accuracy_ints': (61, 70), 'time_ints': (6, 9), 'weekday_ints': 7},\n",
       " {'accuracy_ints': (71, 100), 'time_ints': (6, 9), 'weekday_ints': 7},\n",
       " {'accuracy_ints': (101, 100000), 'time_ints': (6, 9), 'weekday_ints': 7},\n",
       " {'accuracy_ints': (0, 18), 'time_ints': (9, 12), 'weekday_ints': 1},\n",
       " {'accuracy_ints': (19, 50), 'time_ints': (9, 12), 'weekday_ints': 1},\n",
       " {'accuracy_ints': (51, 60), 'time_ints': (9, 12), 'weekday_ints': 1},\n",
       " {'accuracy_ints': (61, 70), 'time_ints': (9, 12), 'weekday_ints': 1},\n",
       " {'accuracy_ints': (71, 100), 'time_ints': (9, 12), 'weekday_ints': 1},\n",
       " {'accuracy_ints': (101, 100000), 'time_ints': (9, 12), 'weekday_ints': 1},\n",
       " {'accuracy_ints': (0, 18), 'time_ints': (9, 12), 'weekday_ints': 2},\n",
       " {'accuracy_ints': (19, 50), 'time_ints': (9, 12), 'weekday_ints': 2},\n",
       " {'accuracy_ints': (51, 60), 'time_ints': (9, 12), 'weekday_ints': 2},\n",
       " {'accuracy_ints': (61, 70), 'time_ints': (9, 12), 'weekday_ints': 2},\n",
       " {'accuracy_ints': (71, 100), 'time_ints': (9, 12), 'weekday_ints': 2},\n",
       " {'accuracy_ints': (101, 100000), 'time_ints': (9, 12), 'weekday_ints': 2},\n",
       " {'accuracy_ints': (0, 18), 'time_ints': (9, 12), 'weekday_ints': 3},\n",
       " {'accuracy_ints': (19, 50), 'time_ints': (9, 12), 'weekday_ints': 3},\n",
       " {'accuracy_ints': (51, 60), 'time_ints': (9, 12), 'weekday_ints': 3},\n",
       " {'accuracy_ints': (61, 70), 'time_ints': (9, 12), 'weekday_ints': 3},\n",
       " {'accuracy_ints': (71, 100), 'time_ints': (9, 12), 'weekday_ints': 3},\n",
       " {'accuracy_ints': (101, 100000), 'time_ints': (9, 12), 'weekday_ints': 3},\n",
       " {'accuracy_ints': (0, 18), 'time_ints': (9, 12), 'weekday_ints': 4},\n",
       " {'accuracy_ints': (19, 50), 'time_ints': (9, 12), 'weekday_ints': 4},\n",
       " {'accuracy_ints': (51, 60), 'time_ints': (9, 12), 'weekday_ints': 4},\n",
       " {'accuracy_ints': (61, 70), 'time_ints': (9, 12), 'weekday_ints': 4},\n",
       " {'accuracy_ints': (71, 100), 'time_ints': (9, 12), 'weekday_ints': 4},\n",
       " {'accuracy_ints': (101, 100000), 'time_ints': (9, 12), 'weekday_ints': 4},\n",
       " {'accuracy_ints': (0, 18), 'time_ints': (9, 12), 'weekday_ints': 5},\n",
       " {'accuracy_ints': (19, 50), 'time_ints': (9, 12), 'weekday_ints': 5},\n",
       " {'accuracy_ints': (51, 60), 'time_ints': (9, 12), 'weekday_ints': 5},\n",
       " {'accuracy_ints': (61, 70), 'time_ints': (9, 12), 'weekday_ints': 5},\n",
       " {'accuracy_ints': (71, 100), 'time_ints': (9, 12), 'weekday_ints': 5},\n",
       " {'accuracy_ints': (101, 100000), 'time_ints': (9, 12), 'weekday_ints': 5},\n",
       " {'accuracy_ints': (0, 18), 'time_ints': (9, 12), 'weekday_ints': 6},\n",
       " {'accuracy_ints': (19, 50), 'time_ints': (9, 12), 'weekday_ints': 6},\n",
       " {'accuracy_ints': (51, 60), 'time_ints': (9, 12), 'weekday_ints': 6},\n",
       " {'accuracy_ints': (61, 70), 'time_ints': (9, 12), 'weekday_ints': 6},\n",
       " {'accuracy_ints': (71, 100), 'time_ints': (9, 12), 'weekday_ints': 6},\n",
       " {'accuracy_ints': (101, 100000), 'time_ints': (9, 12), 'weekday_ints': 6},\n",
       " {'accuracy_ints': (0, 18), 'time_ints': (9, 12), 'weekday_ints': 7},\n",
       " {'accuracy_ints': (19, 50), 'time_ints': (9, 12), 'weekday_ints': 7},\n",
       " {'accuracy_ints': (51, 60), 'time_ints': (9, 12), 'weekday_ints': 7},\n",
       " {'accuracy_ints': (61, 70), 'time_ints': (9, 12), 'weekday_ints': 7},\n",
       " {'accuracy_ints': (71, 100), 'time_ints': (9, 12), 'weekday_ints': 7},\n",
       " {'accuracy_ints': (101, 100000), 'time_ints': (9, 12), 'weekday_ints': 7},\n",
       " {'accuracy_ints': (0, 18), 'time_ints': (12, 15), 'weekday_ints': 1},\n",
       " {'accuracy_ints': (19, 50), 'time_ints': (12, 15), 'weekday_ints': 1},\n",
       " {'accuracy_ints': (51, 60), 'time_ints': (12, 15), 'weekday_ints': 1},\n",
       " {'accuracy_ints': (61, 70), 'time_ints': (12, 15), 'weekday_ints': 1},\n",
       " {'accuracy_ints': (71, 100), 'time_ints': (12, 15), 'weekday_ints': 1},\n",
       " {'accuracy_ints': (101, 100000), 'time_ints': (12, 15), 'weekday_ints': 1},\n",
       " {'accuracy_ints': (0, 18), 'time_ints': (12, 15), 'weekday_ints': 2},\n",
       " {'accuracy_ints': (19, 50), 'time_ints': (12, 15), 'weekday_ints': 2},\n",
       " {'accuracy_ints': (51, 60), 'time_ints': (12, 15), 'weekday_ints': 2},\n",
       " {'accuracy_ints': (61, 70), 'time_ints': (12, 15), 'weekday_ints': 2},\n",
       " {'accuracy_ints': (71, 100), 'time_ints': (12, 15), 'weekday_ints': 2},\n",
       " {'accuracy_ints': (101, 100000), 'time_ints': (12, 15), 'weekday_ints': 2},\n",
       " {'accuracy_ints': (0, 18), 'time_ints': (12, 15), 'weekday_ints': 3},\n",
       " {'accuracy_ints': (19, 50), 'time_ints': (12, 15), 'weekday_ints': 3},\n",
       " {'accuracy_ints': (51, 60), 'time_ints': (12, 15), 'weekday_ints': 3},\n",
       " {'accuracy_ints': (61, 70), 'time_ints': (12, 15), 'weekday_ints': 3},\n",
       " {'accuracy_ints': (71, 100), 'time_ints': (12, 15), 'weekday_ints': 3},\n",
       " {'accuracy_ints': (101, 100000), 'time_ints': (12, 15), 'weekday_ints': 3},\n",
       " {'accuracy_ints': (0, 18), 'time_ints': (12, 15), 'weekday_ints': 4},\n",
       " {'accuracy_ints': (19, 50), 'time_ints': (12, 15), 'weekday_ints': 4},\n",
       " {'accuracy_ints': (51, 60), 'time_ints': (12, 15), 'weekday_ints': 4},\n",
       " {'accuracy_ints': (61, 70), 'time_ints': (12, 15), 'weekday_ints': 4},\n",
       " {'accuracy_ints': (71, 100), 'time_ints': (12, 15), 'weekday_ints': 4},\n",
       " {'accuracy_ints': (101, 100000), 'time_ints': (12, 15), 'weekday_ints': 4},\n",
       " {'accuracy_ints': (0, 18), 'time_ints': (12, 15), 'weekday_ints': 5},\n",
       " {'accuracy_ints': (19, 50), 'time_ints': (12, 15), 'weekday_ints': 5},\n",
       " {'accuracy_ints': (51, 60), 'time_ints': (12, 15), 'weekday_ints': 5},\n",
       " {'accuracy_ints': (61, 70), 'time_ints': (12, 15), 'weekday_ints': 5},\n",
       " {'accuracy_ints': (71, 100), 'time_ints': (12, 15), 'weekday_ints': 5},\n",
       " {'accuracy_ints': (101, 100000), 'time_ints': (12, 15), 'weekday_ints': 5},\n",
       " {'accuracy_ints': (0, 18), 'time_ints': (12, 15), 'weekday_ints': 6},\n",
       " {'accuracy_ints': (19, 50), 'time_ints': (12, 15), 'weekday_ints': 6},\n",
       " {'accuracy_ints': (51, 60), 'time_ints': (12, 15), 'weekday_ints': 6},\n",
       " {'accuracy_ints': (61, 70), 'time_ints': (12, 15), 'weekday_ints': 6},\n",
       " {'accuracy_ints': (71, 100), 'time_ints': (12, 15), 'weekday_ints': 6},\n",
       " {'accuracy_ints': (101, 100000), 'time_ints': (12, 15), 'weekday_ints': 6},\n",
       " {'accuracy_ints': (0, 18), 'time_ints': (12, 15), 'weekday_ints': 7},\n",
       " {'accuracy_ints': (19, 50), 'time_ints': (12, 15), 'weekday_ints': 7},\n",
       " {'accuracy_ints': (51, 60), 'time_ints': (12, 15), 'weekday_ints': 7},\n",
       " {'accuracy_ints': (61, 70), 'time_ints': (12, 15), 'weekday_ints': 7},\n",
       " {'accuracy_ints': (71, 100), 'time_ints': (12, 15), 'weekday_ints': 7},\n",
       " {'accuracy_ints': (101, 100000), 'time_ints': (12, 15), 'weekday_ints': 7},\n",
       " {'accuracy_ints': (0, 18), 'time_ints': (15, 18), 'weekday_ints': 1},\n",
       " {'accuracy_ints': (19, 50), 'time_ints': (15, 18), 'weekday_ints': 1},\n",
       " {'accuracy_ints': (51, 60), 'time_ints': (15, 18), 'weekday_ints': 1},\n",
       " {'accuracy_ints': (61, 70), 'time_ints': (15, 18), 'weekday_ints': 1},\n",
       " {'accuracy_ints': (71, 100), 'time_ints': (15, 18), 'weekday_ints': 1},\n",
       " {'accuracy_ints': (101, 100000), 'time_ints': (15, 18), 'weekday_ints': 1},\n",
       " {'accuracy_ints': (0, 18), 'time_ints': (15, 18), 'weekday_ints': 2},\n",
       " {'accuracy_ints': (19, 50), 'time_ints': (15, 18), 'weekday_ints': 2},\n",
       " {'accuracy_ints': (51, 60), 'time_ints': (15, 18), 'weekday_ints': 2},\n",
       " {'accuracy_ints': (61, 70), 'time_ints': (15, 18), 'weekday_ints': 2},\n",
       " {'accuracy_ints': (71, 100), 'time_ints': (15, 18), 'weekday_ints': 2},\n",
       " {'accuracy_ints': (101, 100000), 'time_ints': (15, 18), 'weekday_ints': 2},\n",
       " {'accuracy_ints': (0, 18), 'time_ints': (15, 18), 'weekday_ints': 3},\n",
       " {'accuracy_ints': (19, 50), 'time_ints': (15, 18), 'weekday_ints': 3},\n",
       " {'accuracy_ints': (51, 60), 'time_ints': (15, 18), 'weekday_ints': 3},\n",
       " {'accuracy_ints': (61, 70), 'time_ints': (15, 18), 'weekday_ints': 3},\n",
       " {'accuracy_ints': (71, 100), 'time_ints': (15, 18), 'weekday_ints': 3},\n",
       " {'accuracy_ints': (101, 100000), 'time_ints': (15, 18), 'weekday_ints': 3},\n",
       " {'accuracy_ints': (0, 18), 'time_ints': (15, 18), 'weekday_ints': 4},\n",
       " {'accuracy_ints': (19, 50), 'time_ints': (15, 18), 'weekday_ints': 4},\n",
       " {'accuracy_ints': (51, 60), 'time_ints': (15, 18), 'weekday_ints': 4},\n",
       " {'accuracy_ints': (61, 70), 'time_ints': (15, 18), 'weekday_ints': 4},\n",
       " {'accuracy_ints': (71, 100), 'time_ints': (15, 18), 'weekday_ints': 4},\n",
       " {'accuracy_ints': (101, 100000), 'time_ints': (15, 18), 'weekday_ints': 4},\n",
       " {'accuracy_ints': (0, 18), 'time_ints': (15, 18), 'weekday_ints': 5},\n",
       " {'accuracy_ints': (19, 50), 'time_ints': (15, 18), 'weekday_ints': 5},\n",
       " {'accuracy_ints': (51, 60), 'time_ints': (15, 18), 'weekday_ints': 5},\n",
       " {'accuracy_ints': (61, 70), 'time_ints': (15, 18), 'weekday_ints': 5},\n",
       " {'accuracy_ints': (71, 100), 'time_ints': (15, 18), 'weekday_ints': 5},\n",
       " {'accuracy_ints': (101, 100000), 'time_ints': (15, 18), 'weekday_ints': 5},\n",
       " {'accuracy_ints': (0, 18), 'time_ints': (15, 18), 'weekday_ints': 6},\n",
       " {'accuracy_ints': (19, 50), 'time_ints': (15, 18), 'weekday_ints': 6},\n",
       " {'accuracy_ints': (51, 60), 'time_ints': (15, 18), 'weekday_ints': 6},\n",
       " {'accuracy_ints': (61, 70), 'time_ints': (15, 18), 'weekday_ints': 6},\n",
       " {'accuracy_ints': (71, 100), 'time_ints': (15, 18), 'weekday_ints': 6},\n",
       " {'accuracy_ints': (101, 100000), 'time_ints': (15, 18), 'weekday_ints': 6},\n",
       " {'accuracy_ints': (0, 18), 'time_ints': (15, 18), 'weekday_ints': 7},\n",
       " {'accuracy_ints': (19, 50), 'time_ints': (15, 18), 'weekday_ints': 7},\n",
       " {'accuracy_ints': (51, 60), 'time_ints': (15, 18), 'weekday_ints': 7},\n",
       " {'accuracy_ints': (61, 70), 'time_ints': (15, 18), 'weekday_ints': 7},\n",
       " {'accuracy_ints': (71, 100), 'time_ints': (15, 18), 'weekday_ints': 7},\n",
       " {'accuracy_ints': (101, 100000), 'time_ints': (15, 18), 'weekday_ints': 7},\n",
       " {'accuracy_ints': (0, 18), 'time_ints': (18, 21), 'weekday_ints': 1},\n",
       " {'accuracy_ints': (19, 50), 'time_ints': (18, 21), 'weekday_ints': 1},\n",
       " {'accuracy_ints': (51, 60), 'time_ints': (18, 21), 'weekday_ints': 1},\n",
       " {'accuracy_ints': (61, 70), 'time_ints': (18, 21), 'weekday_ints': 1},\n",
       " {'accuracy_ints': (71, 100), 'time_ints': (18, 21), 'weekday_ints': 1},\n",
       " {'accuracy_ints': (101, 100000), 'time_ints': (18, 21), 'weekday_ints': 1},\n",
       " {'accuracy_ints': (0, 18), 'time_ints': (18, 21), 'weekday_ints': 2},\n",
       " {'accuracy_ints': (19, 50), 'time_ints': (18, 21), 'weekday_ints': 2},\n",
       " {'accuracy_ints': (51, 60), 'time_ints': (18, 21), 'weekday_ints': 2},\n",
       " {'accuracy_ints': (61, 70), 'time_ints': (18, 21), 'weekday_ints': 2},\n",
       " {'accuracy_ints': (71, 100), 'time_ints': (18, 21), 'weekday_ints': 2},\n",
       " {'accuracy_ints': (101, 100000), 'time_ints': (18, 21), 'weekday_ints': 2},\n",
       " {'accuracy_ints': (0, 18), 'time_ints': (18, 21), 'weekday_ints': 3},\n",
       " {'accuracy_ints': (19, 50), 'time_ints': (18, 21), 'weekday_ints': 3},\n",
       " {'accuracy_ints': (51, 60), 'time_ints': (18, 21), 'weekday_ints': 3},\n",
       " {'accuracy_ints': (61, 70), 'time_ints': (18, 21), 'weekday_ints': 3},\n",
       " {'accuracy_ints': (71, 100), 'time_ints': (18, 21), 'weekday_ints': 3},\n",
       " {'accuracy_ints': (101, 100000), 'time_ints': (18, 21), 'weekday_ints': 3},\n",
       " {'accuracy_ints': (0, 18), 'time_ints': (18, 21), 'weekday_ints': 4},\n",
       " {'accuracy_ints': (19, 50), 'time_ints': (18, 21), 'weekday_ints': 4},\n",
       " {'accuracy_ints': (51, 60), 'time_ints': (18, 21), 'weekday_ints': 4},\n",
       " {'accuracy_ints': (61, 70), 'time_ints': (18, 21), 'weekday_ints': 4},\n",
       " {'accuracy_ints': (71, 100), 'time_ints': (18, 21), 'weekday_ints': 4},\n",
       " {'accuracy_ints': (101, 100000), 'time_ints': (18, 21), 'weekday_ints': 4},\n",
       " {'accuracy_ints': (0, 18), 'time_ints': (18, 21), 'weekday_ints': 5},\n",
       " {'accuracy_ints': (19, 50), 'time_ints': (18, 21), 'weekday_ints': 5},\n",
       " {'accuracy_ints': (51, 60), 'time_ints': (18, 21), 'weekday_ints': 5},\n",
       " {'accuracy_ints': (61, 70), 'time_ints': (18, 21), 'weekday_ints': 5},\n",
       " {'accuracy_ints': (71, 100), 'time_ints': (18, 21), 'weekday_ints': 5},\n",
       " {'accuracy_ints': (101, 100000), 'time_ints': (18, 21), 'weekday_ints': 5},\n",
       " {'accuracy_ints': (0, 18), 'time_ints': (18, 21), 'weekday_ints': 6},\n",
       " {'accuracy_ints': (19, 50), 'time_ints': (18, 21), 'weekday_ints': 6},\n",
       " {'accuracy_ints': (51, 60), 'time_ints': (18, 21), 'weekday_ints': 6},\n",
       " {'accuracy_ints': (61, 70), 'time_ints': (18, 21), 'weekday_ints': 6},\n",
       " {'accuracy_ints': (71, 100), 'time_ints': (18, 21), 'weekday_ints': 6},\n",
       " {'accuracy_ints': (101, 100000), 'time_ints': (18, 21), 'weekday_ints': 6},\n",
       " {'accuracy_ints': (0, 18), 'time_ints': (18, 21), 'weekday_ints': 7},\n",
       " {'accuracy_ints': (19, 50), 'time_ints': (18, 21), 'weekday_ints': 7},\n",
       " {'accuracy_ints': (51, 60), 'time_ints': (18, 21), 'weekday_ints': 7},\n",
       " {'accuracy_ints': (61, 70), 'time_ints': (18, 21), 'weekday_ints': 7},\n",
       " {'accuracy_ints': (71, 100), 'time_ints': (18, 21), 'weekday_ints': 7},\n",
       " {'accuracy_ints': (101, 100000), 'time_ints': (18, 21), 'weekday_ints': 7},\n",
       " {'accuracy_ints': (0, 18), 'time_ints': (21, 0), 'weekday_ints': 1},\n",
       " {'accuracy_ints': (19, 50), 'time_ints': (21, 0), 'weekday_ints': 1},\n",
       " {'accuracy_ints': (51, 60), 'time_ints': (21, 0), 'weekday_ints': 1},\n",
       " {'accuracy_ints': (61, 70), 'time_ints': (21, 0), 'weekday_ints': 1},\n",
       " {'accuracy_ints': (71, 100), 'time_ints': (21, 0), 'weekday_ints': 1},\n",
       " {'accuracy_ints': (101, 100000), 'time_ints': (21, 0), 'weekday_ints': 1},\n",
       " {'accuracy_ints': (0, 18), 'time_ints': (21, 0), 'weekday_ints': 2},\n",
       " {'accuracy_ints': (19, 50), 'time_ints': (21, 0), 'weekday_ints': 2},\n",
       " {'accuracy_ints': (51, 60), 'time_ints': (21, 0), 'weekday_ints': 2},\n",
       " {'accuracy_ints': (61, 70), 'time_ints': (21, 0), 'weekday_ints': 2},\n",
       " {'accuracy_ints': (71, 100), 'time_ints': (21, 0), 'weekday_ints': 2},\n",
       " {'accuracy_ints': (101, 100000), 'time_ints': (21, 0), 'weekday_ints': 2},\n",
       " {'accuracy_ints': (0, 18), 'time_ints': (21, 0), 'weekday_ints': 3},\n",
       " {'accuracy_ints': (19, 50), 'time_ints': (21, 0), 'weekday_ints': 3},\n",
       " {'accuracy_ints': (51, 60), 'time_ints': (21, 0), 'weekday_ints': 3},\n",
       " {'accuracy_ints': (61, 70), 'time_ints': (21, 0), 'weekday_ints': 3},\n",
       " {'accuracy_ints': (71, 100), 'time_ints': (21, 0), 'weekday_ints': 3},\n",
       " {'accuracy_ints': (101, 100000), 'time_ints': (21, 0), 'weekday_ints': 3},\n",
       " {'accuracy_ints': (0, 18), 'time_ints': (21, 0), 'weekday_ints': 4},\n",
       " {'accuracy_ints': (19, 50), 'time_ints': (21, 0), 'weekday_ints': 4},\n",
       " {'accuracy_ints': (51, 60), 'time_ints': (21, 0), 'weekday_ints': 4},\n",
       " {'accuracy_ints': (61, 70), 'time_ints': (21, 0), 'weekday_ints': 4},\n",
       " {'accuracy_ints': (71, 100), 'time_ints': (21, 0), 'weekday_ints': 4},\n",
       " {'accuracy_ints': (101, 100000), 'time_ints': (21, 0), 'weekday_ints': 4},\n",
       " {'accuracy_ints': (0, 18), 'time_ints': (21, 0), 'weekday_ints': 5},\n",
       " {'accuracy_ints': (19, 50), 'time_ints': (21, 0), 'weekday_ints': 5},\n",
       " {'accuracy_ints': (51, 60), 'time_ints': (21, 0), 'weekday_ints': 5},\n",
       " {'accuracy_ints': (61, 70), 'time_ints': (21, 0), 'weekday_ints': 5},\n",
       " {'accuracy_ints': (71, 100), 'time_ints': (21, 0), 'weekday_ints': 5},\n",
       " {'accuracy_ints': (101, 100000), 'time_ints': (21, 0), 'weekday_ints': 5},\n",
       " {'accuracy_ints': (0, 18), 'time_ints': (21, 0), 'weekday_ints': 6},\n",
       " {'accuracy_ints': (19, 50), 'time_ints': (21, 0), 'weekday_ints': 6},\n",
       " {'accuracy_ints': (51, 60), 'time_ints': (21, 0), 'weekday_ints': 6},\n",
       " {'accuracy_ints': (61, 70), 'time_ints': (21, 0), 'weekday_ints': 6},\n",
       " {'accuracy_ints': (71, 100), 'time_ints': (21, 0), 'weekday_ints': 6},\n",
       " {'accuracy_ints': (101, 100000), 'time_ints': (21, 0), 'weekday_ints': 6},\n",
       " {'accuracy_ints': (0, 18), 'time_ints': (21, 0), 'weekday_ints': 7},\n",
       " {'accuracy_ints': (19, 50), 'time_ints': (21, 0), 'weekday_ints': 7},\n",
       " {'accuracy_ints': (51, 60), 'time_ints': (21, 0), 'weekday_ints': 7},\n",
       " {'accuracy_ints': (61, 70), 'time_ints': (21, 0), 'weekday_ints': 7},\n",
       " {'accuracy_ints': (71, 100), 'time_ints': (21, 0), 'weekday_ints': 7},\n",
       " {'accuracy_ints': (101, 100000), 'time_ints': (21, 0), 'weekday_ints': 7}]"
      ]
     },
     "execution_count": 8,
     "metadata": {},
     "output_type": "execute_result"
    }
   ],
   "source": [
    "features_grid"
   ]
  },
  {
   "cell_type": "code",
   "execution_count": null,
   "metadata": {
    "collapsed": true
   },
   "outputs": [],
   "source": [
    "def fgeneration_data(df):\n",
    "    mintue = df['time']%60\n",
    "    df['hour'] = df['time']//60\n",
    "    df['weekday'] = df['hour']//24\n",
    "    df['hour'] = ((df['hour']%24+1)+mintue/60.0)\n",
    "    df['weekday'] = int(df['weekday']%7+1)\n",
    "    df.drop(['time'], axis=1, inplace=True)\n",
    "    dfo = df\n",
    "    return dfo\n",
    "\n",
    "def preprocessing_data(df, fw):\n",
    "    df.drop(['accuracy'], axis=1, inplace=True)\n",
    "    df['hour'] = df['hour']*fw[2]\n",
    "    df['weekday'] = df['weekday']*fw[3]\n",
    "    dfo = df\n",
    "    return dfo\n",
    "\n",
    "# Classification inside one grid cell.\n",
    "def process_one_cell(df_train, df_test, grid_condition, fw):\n",
    "    # {'accuracy_ints': (0, 18), 'time_ints': (0, 3), 'weekday_ints': 4} = grid_condition\n",
    "    accuracy_min, accuracy_max = grid_condition['accuracy_ints']\n",
    "    hh_min, hh_max = grid_condition['time_ints']\n",
    "    weekday_v = int(grid_condition['weekday_ints'])\n",
    "    #Working on df_train\n",
    "    filter_df = lambda df: df[(df['accuracy'] >= accuracy_min) & (df['accuracy'] <= accuracy_max) &\n",
    "                               (df['hour'] >= hh_min) & (df['hour'] < hh_max) &\n",
    "                                (df['weekday'] >= weekday_v))]\n",
    "    df_cell_train = filter_df(df_train)\n",
    "    df_cell_train = preprocessing_data(df_cell_train, fw)\n",
    "    \n",
    "    place_counts = df_cell_train.place_id.value_counts()\n",
    "    mask = (place_counts[df_cell_train.place_id.values] >= th).values\n",
    "    df_cell_train = df_cell_train.loc[mask]\n",
    "    \n",
    "    #Working on df_test\n",
    "    # to be delete: df_cell_test = df_test.loc[df_test.grid_cell == grid_id]\n",
    "    df_cell_test = filter_df(df_test)\n",
    "    df_cell_test = preprocessing_data(df_cell_test, fw)\n",
    "    row_ids = df_cell_test.index\n",
    "\n",
    "    #Feature engineering on x and y\n",
    "    df_cell_train.loc[:,'x'] *= fw[0]\n",
    "    df_cell_train.loc[:,'y'] *= fw[1]\n",
    "    df_cell_test.loc[:,'x'] *= fw[0]\n",
    "    df_cell_test.loc[:,'y'] *= fw[1]\n",
    "    \n",
    "    #Preparing data\n",
    "    le = LabelEncoder()\n",
    "    y = le.fit_transform(df_cell_train.place_id.values)\n",
    "    X = df_cell_train.drop(['place_id'], axis=1).values.astype(float)\n",
    "    X_test = df_cell_test.values.astype(float)\n",
    "\n",
    "    #Applying the classifier\n",
    "    clf = KNeighborsClassifier(n_neighbors=26, weights='distance', \n",
    "                               metric='manhattan', n_jobs=2)\n",
    "    clf.fit(X, y)\n",
    "    y_pred = clf.predict_proba(X_test)\n",
    "    pred_labels = le.inverse_transform(np.argsort(y_pred, axis=1)[:,::-1][:,:3]) \n",
    "    \n",
    "    return pred_labels, row_ids\n",
    "   \n",
    "\n",
    "def process_grid(df_train, df_test, features_grid, fw):\n",
    "    \"\"\"\n",
    "    Iterates over all grid cells, aggregates the results and makes the\n",
    "    submission.\n",
    "    \"\"\" \n",
    "    preds = np.zeros((df_test.shape[0], 3), dtype=np.int64)\n",
    "    for it in features_grid:\n",
    "        #Applying classifier to one grid cell\n",
    "        #TODO: add preparation\n",
    "        pred_labels, row_ids = process_one_cell(fgeneration_data(df_train), fgeneration_data(df_test), it, fw)\n",
    "        #Updating predictions\n",
    "        preds[row_ids] = pred_labels\n",
    "        print(it)\n",
    "        #print(\"Row %d/%d elapsed time: %.2f seconds\" % (i+1, (int)(size/x_step),(time.time() - start_time_row)))\n",
    "\n",
    "    print('Generating submission file ...')\n",
    "    #Auxiliary dataframe with the 3 best predictions for each sample\n",
    "    df_aux = pd.DataFrame(preds, dtype=str, columns=['l1', 'l2', 'l3'])  \n",
    "    \n",
    "    #Concatenating the 3 predictions for each sample\n",
    "    ds_sub = df_aux.l1.str.cat([df_aux.l2, df_aux.l3], sep=' ')\n",
    "    \n",
    "    #Writting to csv\n",
    "    ds_sub.name = 'place_id'\n",
    "    ds_sub.to_csv('sub_knn.csv', index=True, header=True, index_label='row_id')  "
   ]
  },
  {
   "cell_type": "code",
   "execution_count": null,
   "metadata": {
    "collapsed": true
   },
   "outputs": [],
   "source": [
    "fw = [500., 1000., 4., 3., 2., 8.] #feature weights (black magic here)\n",
    "th = 5 #Keeping place_ids with more than th samples."
   ]
  },
  {
   "cell_type": "code",
   "execution_count": null,
   "metadata": {
    "collapsed": true
   },
   "outputs": [],
   "source": [
    "print('Loading data ...')\n",
    "\n",
    "df_train = pd.read_csv('../input/train.csv',\n",
    "                       usecols=['row_id','x','y', 'accuracy', 'time','place_id'], \n",
    "                       index_col = 0)\n",
    "df_test = pd.read_csv('../input/test.csv',\n",
    "                      usecols=['row_id','x','y', 'accuracy' ,'time'],\n",
    "                      index_col = 0)\n",
    "\n",
    "print('Preparing train data')\n",
    "#Feature engineering\n",
    "\n",
    "#Solving classification problems inside each grid cell \n",
    "process_grid(df_train, df_test, features_grid, fw)"
   ]
  },
  {
   "cell_type": "code",
   "execution_count": 8,
   "metadata": {
    "collapsed": false
   },
   "outputs": [
    {
     "data": {
      "text/plain": [
       "485300.0"
      ]
     },
     "execution_count": 8,
     "metadata": {},
     "output_type": "execute_result"
    }
   ],
   "source": []
  },
  {
   "cell_type": "code",
   "execution_count": 11,
   "metadata": {
    "collapsed": false
   },
   "outputs": [
    {
     "data": {
      "text/plain": [
       "21.333333333333332"
      ]
     },
     "execution_count": 11,
     "metadata": {},
     "output_type": "execute_result"
    }
   ],
   "source": [
    "(485300%24+1)+20/60"
   ]
  },
  {
   "cell_type": "code",
   "execution_count": 14,
   "metadata": {
    "collapsed": false
   },
   "outputs": [
    {
     "data": {
      "text/plain": [
       "5"
      ]
     },
     "execution_count": 14,
     "metadata": {},
     "output_type": "execute_result"
    }
   ],
   "source": [
    "int((485300//24)%7+1)"
   ]
  },
  {
   "cell_type": "code",
   "execution_count": null,
   "metadata": {
    "collapsed": true
   },
   "outputs": [],
   "source": []
  }
 ],
 "metadata": {
  "anaconda-cloud": {},
  "kernelspec": {
   "display_name": "Python [Root]",
   "language": "python",
   "name": "Python [Root]"
  },
  "language_info": {
   "codemirror_mode": {
    "name": "ipython",
    "version": 3
   },
   "file_extension": ".py",
   "mimetype": "text/x-python",
   "name": "python",
   "nbconvert_exporter": "python",
   "pygments_lexer": "ipython3",
   "version": "3.5.1"
  }
 },
 "nbformat": 4,
 "nbformat_minor": 0
}
